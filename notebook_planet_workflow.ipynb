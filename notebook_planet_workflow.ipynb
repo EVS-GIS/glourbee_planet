{
 "cells": [
  {
   "cell_type": "markdown",
   "metadata": {},
   "source": [
    "# Workflow for PlanetScope data"
   ]
  },
  {
   "cell_type": "code",
   "execution_count": 1,
   "metadata": {
    "tags": []
   },
   "outputs": [],
   "source": [
    "import ee\n",
    "\n",
    "ee.Authenticate()\n",
    "\n",
    "# Set your Google Cloud EarthEngine-enabled project name (for asset exports)\n",
    "ee_project_name='braided-rivers-ee'\n",
    "\n",
    "ee.Initialize(project=ee_project_name) "
   ]
  },
  {
   "cell_type": "markdown",
   "metadata": {},
   "source": [
    "## Import the required packages"
   ]
  },
  {
   "cell_type": "code",
   "execution_count": 2,
   "metadata": {
    "tags": []
   },
   "outputs": [],
   "source": [
    "from glourbee import (\n",
    "    classification_planet,\n",
    "    dgo_metrics_planet,\n",
    "    workflow_planet\n",
    ")"
   ]
  },
  {
   "cell_type": "markdown",
   "metadata": {},
   "source": [
    "## 1. Classical usage workflow"
   ]
  },
  {
   "cell_type": "markdown",
   "metadata": {},
   "source": [
    "### Upload the DGOs to GEE"
   ]
  },
  {
   "cell_type": "code",
   "execution_count": 3,
   "metadata": {
    "tags": []
   },
   "outputs": [],
   "source": [
    "# If it is the first time you process those DGOs in this Google Cloud project, you have to upload them\n",
    "# dgo_assetId, dgo_features = assets_management.uploadDGOs('./br-ee-analysis-data/br_reaches_polygons.shp', ee_project_name='braided-rivers-ee', simplify_tolerance=5)"
   ]
  },
  {
   "cell_type": "markdown",
   "metadata": {
    "tags": []
   },
   "source": [
    "### Set parameters"
   ]
  },
  {
   "cell_type": "code",
   "execution_count": 16,
   "metadata": {
    "tags": []
   },
   "outputs": [],
   "source": [
    "planet_analysis_params = {\n",
    "    'ee_project_name': ee_project_name,\n",
    "    'dgo_assetID': 'projects/braided-rivers-ee/assets/dgos/reaches_polygons_WGS84',\n",
    "    'planet_collection_assetID': 'projects/braided-rivers-ee/assets/planet_eygue7_8B'\n",
    "}"
   ]
  },
  {
   "cell_type": "markdown",
   "metadata": {},
   "source": [
    "### Start workflow\n",
    "\n",
    "Please note carefully the run_id returned by the glourbMetrics function. It will allow you to export the final result."
   ]
  },
  {
   "cell_type": "code",
   "execution_count": 17,
   "metadata": {
    "scrolled": true,
    "tags": []
   },
   "outputs": [
    {
     "name": "stdout",
     "output_type": "stream",
     "text": [
      "Computation task started\n"
     ]
    }
   ],
   "source": [
    "run_id = workflow_planet.startWorkflow(**planet_analysis_params)"
   ]
  },
  {
   "cell_type": "code",
   "execution_count": 18,
   "metadata": {
    "scrolled": true
   },
   "outputs": [
    {
     "data": {
      "text/plain": [
       "'d1fe6b313315444db9dd06d32edd452c'"
      ]
     },
     "execution_count": 18,
     "metadata": {},
     "output_type": "execute_result"
    }
   ],
   "source": [
    "run_id"
   ]
  },
  {
   "cell_type": "markdown",
   "metadata": {
    "tags": []
   },
   "source": [
    "### Monitor workflow tasks"
   ]
  },
  {
   "cell_type": "markdown",
   "metadata": {},
   "source": [
    "If you restarted the notebook kernel and want to check the state of your previous computation tasks, you can use the following cell to retrieve your running tasks (replace \"run_id\" by the corresponding id in str format)."
   ]
  },
  {
   "cell_type": "code",
   "execution_count": 20,
   "metadata": {
    "tags": []
   },
   "outputs": [
    {
     "name": "stdout",
     "output_type": "stream",
     "text": [
      "1 tasks completed.\n",
      "0 tasks running.\n",
      "0 tasks pending.\n",
      "0 tasks ready.\n",
      "0 tasks failed.\n"
     ]
    }
   ],
   "source": [
    "tasks = workflow_planet.workflowState(run_id)"
   ]
  },
  {
   "cell_type": "code",
   "execution_count": 17,
   "metadata": {
    "tags": []
   },
   "outputs": [
    {
     "data": {
      "text/html": [
       "\n",
       "            <style>\n",
       "                .geemap-dark {\n",
       "                    --jp-widgets-color: white;\n",
       "                    --jp-widgets-label-color: white;\n",
       "                    --jp-ui-font-color1: white;\n",
       "                    --jp-layout-color2: #454545;\n",
       "                    background-color: #383838;\n",
       "                }\n",
       "                    \n",
       "                .geemap-dark .jupyter-button {\n",
       "                    --jp-layout-color3: #383838;\n",
       "                }\n",
       "                \n",
       "                .geemap-colab {\n",
       "                    background-color: var(--colab-primary-surface-color, white);\n",
       "                }\n",
       "                    \n",
       "                .geemap-colab .jupyter-button {\n",
       "                    --jp-layout-color3: var(--colab-primary-surface-color, white);\n",
       "                }\n",
       "            </style>\n",
       "            "
      ],
      "text/plain": [
       "<IPython.core.display.HTML object>"
      ]
     },
     "metadata": {},
     "output_type": "display_data"
    },
    {
     "data": {
      "text/plain": [
       "[{'state': 'RUNNING',\n",
       "  'description': 'Computation task 1-1 for run f996db7f1de94ec8a863177205266948',\n",
       "  'creation_timestamp_ms': 1707304013282,\n",
       "  'update_timestamp_ms': 1707304017452,\n",
       "  'start_timestamp_ms': 1707304017361,\n",
       "  'task_type': 'EXPORT_FEATURES',\n",
       "  'attempt': 1,\n",
       "  'id': 'AWN6MIHPE2NJD63LGG74LDQY',\n",
       "  'name': 'projects/braided-rivers-ee/operations/AWN6MIHPE2NJD63LGG74LDQY'}]"
      ]
     },
     "execution_count": 17,
     "metadata": {},
     "output_type": "execute_result"
    }
   ],
   "source": [
    "# Check all the details if needed\n",
    "tasks"
   ]
  },
  {
   "cell_type": "code",
   "execution_count": 8,
   "metadata": {
    "tags": []
   },
   "outputs": [],
   "source": [
    "# Cancel the workflow\n",
    "workflow_planet.cancelWorkflow(run_id)"
   ]
  },
  {
   "cell_type": "markdown",
   "metadata": {},
   "source": [
    "### Export results\n",
    "When all the computation tasks are complete, use the follwing to merge the result into one file and download it locally."
   ]
  },
  {
   "cell_type": "code",
   "execution_count": 21,
   "metadata": {},
   "outputs": [],
   "source": [
    "workflow_planet.getResults(run_id=run_id, ee_project_name=ee_project_name, output_csv='./results_planet_eygue7_20240313_new.csv')"
   ]
  },
  {
   "cell_type": "code",
   "execution_count": 15,
   "metadata": {},
   "outputs": [],
   "source": [
    "# Check your results, then please clean the computation results on GEE\n",
    "workflow_planet.cleanAssets(run_id, ee_project_name)"
   ]
  }
 ],
 "metadata": {
  "kernelspec": {
   "display_name": "Python 3 (ipykernel)",
   "language": "python",
   "name": "python3"
  },
  "language_info": {
   "codemirror_mode": {
    "name": "ipython",
    "version": 3
   },
   "file_extension": ".py",
   "mimetype": "text/x-python",
   "name": "python",
   "nbconvert_exporter": "python",
   "pygments_lexer": "ipython3",
   "version": "3.12.1"
  },
  "vscode": {
   "interpreter": {
    "hash": "8aeb1f878ba8158bc058a932ecec9da3751cdfd192578fad3204ee3a44e5792c"
   }
  }
 },
 "nbformat": 4,
 "nbformat_minor": 4
}
