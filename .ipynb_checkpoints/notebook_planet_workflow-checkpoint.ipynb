{
 "cells": [
  {
   "cell_type": "markdown",
   "metadata": {},
   "source": [
    "# Workflow for PlanetScope data"
   ]
  },
  {
   "cell_type": "code",
   "execution_count": null,
   "metadata": {
    "tags": []
   },
   "outputs": [],
   "source": [
    "import ee\n",
    "\n",
    "ee.Authenticate()\n",
    "\n",
    "# Set your Google Cloud EarthEngine-enabled project name (for asset exports)\n",
    "ee_project_name='braided-rivers-ee'\n",
    "\n",
    "ee.Initialize(project=ee_project_name) "
   ]
  },
  {
   "cell_type": "markdown",
   "metadata": {},
   "source": [
    "## Import the required packages"
   ]
  },
  {
   "cell_type": "code",
   "execution_count": null,
   "metadata": {
    "tags": []
   },
   "outputs": [],
   "source": [
    "from functions import (\n",
    "    classification_planet,\n",
    "    dgo_metrics_planet,\n",
    "    workflow_planet\n",
    ")"
   ]
  },
  {
   "cell_type": "markdown",
   "metadata": {},
   "source": [
    "## 1. Classical usage workflow"
   ]
  },
  {
   "cell_type": "markdown",
   "metadata": {},
   "source": [
    "### Upload the DGOs to GEE"
   ]
  },
  {
   "cell_type": "code",
   "execution_count": null,
   "metadata": {
    "tags": []
   },
   "outputs": [],
   "source": [
    "# If it is the first time you process those DGOs in this Google Cloud project, you have to upload them\n",
    "# dgo_assetId, dgo_features = assets_management.uploadDGOs('./br-ee-analysis-data/br_reaches_polygons.shp', ee_project_name='braided-rivers-ee', simplify_tolerance=5)"
   ]
  },
  {
   "cell_type": "markdown",
   "metadata": {
    "tags": []
   },
   "source": [
    "### Set parameters"
   ]
  },
  {
   "cell_type": "code",
   "execution_count": null,
   "metadata": {
    "tags": []
   },
   "outputs": [],
   "source": [
    "planet_analysis_params = {\n",
    "    'ee_project_name': ee_project_name,\n",
    "    'dgo_assetID': 'projects/braided-rivers-ee/assets/dgos/reaches_polygons_WGS84',\n",
    "    'planet_collection_assetID': 'projects/braided-rivers-ee/assets/planet_all',\n",
    "    'water_threshold_ndwi': '-0.2'\n",
    "}"
   ]
  },
  {
   "cell_type": "markdown",
   "metadata": {},
   "source": [
    "### Start workflow\n",
    "\n",
    "Please note carefully the run_id returned by the glourbMetrics function. It will allow you to export the final result."
   ]
  },
  {
   "cell_type": "code",
   "execution_count": null,
   "metadata": {
    "scrolled": true,
    "tags": []
   },
   "outputs": [],
   "source": [
    "run_id = workflow_planet.startWorkflow(**planet_analysis_params)"
   ]
  },
  {
   "cell_type": "code",
   "execution_count": null,
   "metadata": {
    "scrolled": true
   },
   "outputs": [],
   "source": [
    "run_id"
   ]
  },
  {
   "cell_type": "markdown",
   "metadata": {
    "tags": []
   },
   "source": [
    "### Monitor workflow tasks"
   ]
  },
  {
   "cell_type": "markdown",
   "metadata": {},
   "source": [
    "If you restarted the notebook kernel and want to check the state of your previous computation tasks, you can use the following cell to retrieve your running tasks (replace \"run_id\" by the corresponding id in str format)."
   ]
  },
  {
   "cell_type": "code",
   "execution_count": null,
   "metadata": {
    "tags": []
   },
   "outputs": [],
   "source": [
    "tasks = workflow_planet.workflowState(run_id)"
   ]
  },
  {
   "cell_type": "code",
   "execution_count": null,
   "metadata": {
    "tags": []
   },
   "outputs": [],
   "source": [
    "# Check all the details if needed\n",
    "tasks"
   ]
  },
  {
   "cell_type": "code",
   "execution_count": null,
   "metadata": {
    "tags": []
   },
   "outputs": [],
   "source": [
    "# Cancel the workflow\n",
    "workflow_planet.cancelWorkflow(run_id)"
   ]
  },
  {
   "cell_type": "markdown",
   "metadata": {},
   "source": [
    "### Export results\n",
    "When all the computation tasks are complete, use the follwing to merge the result into one file and download it locally."
   ]
  },
  {
   "cell_type": "code",
   "execution_count": null,
   "metadata": {},
   "outputs": [],
   "source": [
    "workflow_planet.getResults(run_id=run_id, ee_project_name=ee_project_name, output_csv='./export/results_planet_20240315.csv')"
   ]
  },
  {
   "cell_type": "code",
   "execution_count": null,
   "metadata": {},
   "outputs": [],
   "source": [
    "# Check your results, then please clean the computation results on GEE\n",
    "workflow_planet.cleanAssets(run_id, ee_project_name)"
   ]
  }
 ],
 "metadata": {
  "kernelspec": {
   "display_name": "Python 3 (ipykernel)",
   "language": "python",
   "name": "python3"
  },
  "language_info": {
   "codemirror_mode": {
    "name": "ipython",
    "version": 3
   },
   "file_extension": ".py",
   "mimetype": "text/x-python",
   "name": "python",
   "nbconvert_exporter": "python",
   "pygments_lexer": "ipython3",
   "version": "3.12.1"
  },
  "vscode": {
   "interpreter": {
    "hash": "8aeb1f878ba8158bc058a932ecec9da3751cdfd192578fad3204ee3a44e5792c"
   }
  }
 },
 "nbformat": 4,
 "nbformat_minor": 4
}
